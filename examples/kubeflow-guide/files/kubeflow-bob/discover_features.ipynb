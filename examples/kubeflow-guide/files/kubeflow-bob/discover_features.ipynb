{
 "cells": [
  {
   "cell_type": "code",
   "execution_count": null,
   "metadata": {},
   "outputs": [],
   "source": [
    "from feast import FeatureStore\n",
    "from feast.repo_config import RepoConfig, RegistryConfig"
   ]
  },
  {
   "cell_type": "code",
   "execution_count": null,
   "metadata": {},
   "outputs": [],
   "source": [
    "registry_config_alice = RegistryConfig(\n",
    "    registry_store_type=\"KubeflowRegistryStore\",\n",
    "    path=\"\",\n",
    "    project=\"kubeflow-alice\",\n",
    "    readMode=True\n",
    ")"
   ]
  },
  {
   "cell_type": "code",
   "execution_count": null,
   "metadata": {},
   "outputs": [],
   "source": [
    "repo_config_alice = RepoConfig(\n",
    "    project=\"kubeflow-alice\",\n",
    "    registry=registry_config_alice,\n",
    "    provider=\"local\"\n",
    ")"
   ]
  },
  {
   "cell_type": "code",
   "execution_count": null,
   "metadata": {},
   "outputs": [],
   "source": [
    "fs_alice = FeatureStore(config=repo_config_alice, repo_path=None)"
   ]
  },
  {
   "cell_type": "code",
   "execution_count": null,
   "metadata": {},
   "outputs": [],
   "source": [
    "data_sources_alice = fs_alice.list_data_sources(allow_cache=True)"
   ]
  },
  {
   "cell_type": "code",
   "execution_count": null,
   "metadata": {},
   "outputs": [],
   "source": [
    "for ds in data_sources_alice:\n",
    "    print(ds.name, ds._postgres_options._query, sep=\" - \")"
   ]
  },
  {
   "cell_type": "code",
   "execution_count": null,
   "metadata": {},
   "outputs": [],
   "source": [
    "entities_alice = fs_alice.list_entities(allow_cache=True)"
   ]
  },
  {
   "cell_type": "code",
   "execution_count": null,
   "metadata": {},
   "outputs": [],
   "source": [
    "for e in entities_alice:\n",
    "    print(e.name, e.value_type, e.join_keys, sep=\" - \")"
   ]
  },
  {
   "cell_type": "code",
   "execution_count": null,
   "metadata": {},
   "outputs": [],
   "source": [
    "feature_views_alice = fs_alice.list_feature_views(allow_cache=True)"
   ]
  },
  {
   "cell_type": "code",
   "execution_count": null,
   "metadata": {},
   "outputs": [],
   "source": [
    "for fv in feature_views_alice:\n",
    "    print(fv.name, fv.entities, fv.schema, sep=\" - \")"
   ]
  },
  {
   "cell_type": "code",
   "execution_count": null,
   "metadata": {},
   "outputs": [],
   "source": [
    "registry_config_charlie = RegistryConfig(\n",
    "    registry_store_type=\"KubeflowRegistryStore\",\n",
    "    path=\"\",\n",
    "    project=\"kubeflow-charlie\",\n",
    "    readMode=True\n",
    ")"
   ]
  },
  {
   "cell_type": "code",
   "execution_count": null,
   "metadata": {},
   "outputs": [],
   "source": [
    "repo_config_charlie = RepoConfig(\n",
    "    project=\"kubeflow-charlie\",\n",
    "    registry=registry_config_charlie,\n",
    "    provider=\"local\"\n",
    ")"
   ]
  },
  {
   "cell_type": "code",
   "execution_count": null,
   "metadata": {},
   "outputs": [],
   "source": [
    "fs_charlie = FeatureStore(config=repo_config_charlie, repo_path=None)"
   ]
  },
  {
   "cell_type": "code",
   "execution_count": null,
   "metadata": {},
   "outputs": [],
   "source": [
    "data_sources_charlie = fs_charlie.list_data_sources(allow_cache=True)"
   ]
  },
  {
   "cell_type": "code",
   "execution_count": null,
   "metadata": {},
   "outputs": [],
   "source": [
    "for ds in data_sources_charlie:\n",
    "    print(ds.name, ds._postgres_options._query, sep=\" - \")"
   ]
  },
  {
   "cell_type": "code",
   "execution_count": null,
   "metadata": {},
   "outputs": [],
   "source": [
    "entities_charlie = fs_charlie.list_entities(allow_cache=True)"
   ]
  },
  {
   "cell_type": "code",
   "execution_count": null,
   "metadata": {},
   "outputs": [],
   "source": [
    "for e in entities_charlie:\n",
    "    print(e.name, e.value_type, e.join_keys, sep=\" - \")"
   ]
  },
  {
   "cell_type": "code",
   "execution_count": null,
   "metadata": {},
   "outputs": [],
   "source": [
    "feature_views_charlie = fs_charlie.list_feature_views(allow_cache=True)"
   ]
  },
  {
   "cell_type": "code",
   "execution_count": null,
   "metadata": {},
   "outputs": [],
   "source": [
    "for fv in feature_views_charlie:\n",
    "    print(fv.name, fv.entities, fv.schema, sep=\" - \")"
   ]
  },
  {
   "cell_type": "code",
   "execution_count": null,
   "metadata": {},
   "outputs": [],
   "source": [
    "odfvs_charlie = fs_charlie.list_on_demand_feature_views(allow_cache=True)"
   ]
  },
  {
   "cell_type": "code",
   "execution_count": null,
   "metadata": {},
   "outputs": [],
   "source": [
    "for odfv in odfvs_charlie:\n",
    "    print(odfv.name, odfv.features , sep=\" - \")"
   ]
  }
 ],
 "metadata": {
  "kernelspec": {
   "display_name": "Python 3.8.10 ('env')",
   "language": "python",
   "name": "python3"
  },
  "kubeflow_notebook": {
   "autosnapshot": true,
   "deploy_config": {},
   "docker_image": "gcr.io/arrikto/jupyter-kale-py38@sha256:074b48065d91954f20627a2aa16687b441be07fdb2a35549b43854e437ec8876",
   "experiment": {
    "id": "",
    "name": ""
   },
   "experiment_name": "",
   "katib_metadata": {
    "algorithm": {
     "algorithmName": "grid"
    },
    "maxFailedTrialCount": 3,
    "maxTrialCount": 12,
    "objective": {
     "objectiveMetricName": "",
     "type": "minimize"
    },
    "parallelTrialCount": 3,
    "parameters": []
   },
   "katib_run": false,
   "pipeline_description": "",
   "pipeline_name": "",
   "snapshot_volumes": true,
   "volume_access_mode": "rwm",
   "volumes": [
    {
     "annotations": [],
     "mount_point": "/home/jovyan",
     "name": "feast-dev-workspace-qg6hx",
     "size": 5,
     "size_type": "Gi",
     "snapshot": false,
     "type": "clone"
    }
   ]
  },
  "language_info": {
   "codemirror_mode": {
    "name": "ipython",
    "version": 3
   },
   "file_extension": ".py",
   "mimetype": "text/x-python",
   "name": "python",
   "nbconvert_exporter": "python",
   "pygments_lexer": "ipython3",
   "version": "3.8.10"
  },
  "vscode": {
   "interpreter": {
    "hash": "6eae61762843014baa3dac35aefd3cc07bf970b962c11c6cecd04b77dd2283a2"
   }
  }
 },
 "nbformat": 4,
 "nbformat_minor": 4
}
