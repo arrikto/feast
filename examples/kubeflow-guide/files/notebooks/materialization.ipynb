{
 "cells": [
  {
   "cell_type": "code",
   "execution_count": null,
   "metadata": {},
   "outputs": [],
   "source": [
    "from datetime import datetime, timedelta\n",
    "from feast import FeatureStore\n",
    "\n",
    "from feast.infra.offline_stores.contrib.postgres_offline_store.postgres import PostgreSQLOfflineStoreConfig\n",
    "from feast.infra.online_stores.redis import RedisOnlineStoreConfig\n",
    "from feast.repo_config import RepoConfig, RegistryConfig"
   ]
  },
  {
   "cell_type": "markdown",
   "metadata": {
    "tags": []
   },
   "source": [
    "We start by setting up the Feast client and initializing a FeatureStore instance"
   ]
  },
  {
   "cell_type": "code",
   "execution_count": null,
   "metadata": {},
   "outputs": [],
   "source": [
    "offline_store_config = PostgreSQLOfflineStoreConfig(\n",
    "    host=\"postgresql-offline-store.default.svc.cluster.local\",\n",
    "    database=\"postgres\",\n",
    "    db_schema=\"public\",\n",
    "    user=\"postgres\",\n",
    "    password=\"postgres\"\n",
    ")"
   ]
  },
  {
   "cell_type": "code",
   "execution_count": null,
   "metadata": {},
   "outputs": [],
   "source": [
    "online_store_config = RedisOnlineStoreConfig(\n",
    "    connection_string=\"redis-online-store.default.svc.cluster.local:6379,username=default,password=redis,db=0\"\n",
    ")"
   ]
  },
  {
   "cell_type": "code",
   "execution_count": null,
   "metadata": {},
   "outputs": [],
   "source": [
    "registry_config = RegistryConfig(\n",
    "    registry_store_type=\"KubeflowRegistryStore\",\n",
    "    path=\"\",\n",
    "    project=\"kubeflow-user\"\n",
    ")"
   ]
  },
  {
   "cell_type": "code",
   "execution_count": null,
   "metadata": {},
   "outputs": [],
   "source": [
    "repo_config = RepoConfig(\n",
    "    project=\"kubeflow-user\",\n",
    "    registry=registry_config,\n",
    "    provider=\"local\",\n",
    "    offline_store=offline_store_config,\n",
    "    online_store=online_store_config\n",
    ")"
   ]
  },
  {
   "cell_type": "code",
   "execution_count": null,
   "metadata": {},
   "outputs": [],
   "source": [
    "fs = FeatureStore(config=repo_config, repo_path=None)"
   ]
  },
  {
   "cell_type": "markdown",
   "metadata": {
    "tags": []
   },
   "source": [
    "Then, we fetch all feature view definitions"
   ]
  },
  {
   "cell_type": "code",
   "execution_count": null,
   "metadata": {},
   "outputs": [],
   "source": [
    "feature_views = fs.list_feature_views(allow_cache=True)"
   ]
  },
  {
   "cell_type": "code",
   "execution_count": null,
   "metadata": {},
   "outputs": [],
   "source": [
    "fv_names = []\n",
    "\n",
    "for fv in feature_views:\n",
    "    print(fv.name, fv.entities, fv.schema, sep=\" - \")\n",
    "    fv_names.append(fv.name)"
   ]
  },
  {
   "cell_type": "markdown",
   "metadata": {
    "tags": []
   },
   "source": [
    "After choosing the feature views (their names to be specific) we want to materialize, we can use either the _materialize_incremental()_ or the _materialize()_ method.\n",
    "\n",
    "The first method loads incremental new feature data up to the specified end time from either the specified feature views, or all feature views if none are specified, into the online store where it is available for online serving. The start time of the interval materialized is either the most recent end time of a prior materialization or (now - ttl) if no such prior materialization exists.\n",
    "\n",
    "The second one loads feature data in the specified interval from either the specified feature views, or all feature views if none are specified, into the online store where it is available for online serving.\n",
    "\n",
    "You can choose the method that fits your use case."
   ]
  },
  {
   "cell_type": "code",
   "execution_count": null,
   "metadata": {},
   "outputs": [],
   "source": [
    "fs.materialize_incremental(end_date=datetime.utcnow(), feature_views=fv_names)"
   ]
  },
  {
   "cell_type": "code",
   "execution_count": null,
   "metadata": {},
   "outputs": [],
   "source": [
    "fs.materialize(\n",
    "    start_date=datetime.utcnow() - timedelta(days=7), end_date=datetime.utcnow(), feature_views=fv_names\n",
    ")"
   ]
  }
 ],
 "metadata": {
  "kernelspec": {
   "display_name": "Python 3.8.10 ('env')",
   "language": "python",
   "name": "python3"
  },
  "kubeflow_notebook": {
   "autosnapshot": true,
   "deploy_config": {},
   "docker_image": "gcr.io/arrikto/jupyter-kale-py38@sha256:b7e923046b834491fb5fd90850940cb3b57ba5aedb7d558757d9848db6cb28eb",
   "experiment": {
    "id": "",
    "name": ""
   },
   "experiment_name": "",
   "katib_metadata": {
    "algorithm": {
     "algorithmName": "grid"
    },
    "maxFailedTrialCount": 3,
    "maxTrialCount": 12,
    "objective": {
     "objectiveMetricName": "",
     "type": "minimize"
    },
    "parallelTrialCount": 3,
    "parameters": []
   },
   "katib_run": false,
   "pipeline_description": "",
   "pipeline_name": "",
   "snapshot_volumes": true,
   "storage_class_name": "",
   "volume_access_mode": "rwm",
   "volumes": [
    {
     "annotations": [],
     "mount_point": "/home/jovyan",
     "name": "feast-dev-workspace-5j8vz",
     "size": 5,
     "size_type": "Gi",
     "snapshot": false,
     "type": "clone"
    }
   ]
  },
  "language_info": {
   "codemirror_mode": {
    "name": "ipython",
    "version": 3
   },
   "file_extension": ".py",
   "mimetype": "text/x-python",
   "name": "python",
   "nbconvert_exporter": "python",
   "pygments_lexer": "ipython3",
   "version": "3.8.10"
  },
  "vscode": {
   "interpreter": {
    "hash": "6eae61762843014baa3dac35aefd3cc07bf970b962c11c6cecd04b77dd2283a2"
   }
  }
 },
 "nbformat": 4,
 "nbformat_minor": 4
}
