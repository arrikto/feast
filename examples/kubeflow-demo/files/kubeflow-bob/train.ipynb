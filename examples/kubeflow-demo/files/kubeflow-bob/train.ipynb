{
 "cells": [
  {
   "cell_type": "code",
   "execution_count": null,
   "metadata": {
    "tags": [
     "imports"
    ]
   },
   "outputs": [],
   "source": [
    "import numpy as np\n",
    "import pandas as pd\n",
    "\n",
    "from datetime import datetime, timedelta\n",
    "from feast import Entity, FeatureStore\n",
    "from feast.repo_config import RepoConfig, RegistryConfig\n",
    "from feast.infra.offline_stores.contrib.postgres_offline_store.postgres import PostgreSQLOfflineStoreConfig\n",
    "from feast.infra.online_stores.redis import RedisOnlineStoreConfig\n",
    "\n",
    "from sklearn.linear_model import LinearRegression"
   ]
  },
  {
   "cell_type": "markdown",
   "metadata": {
    "tags": []
   },
   "source": [
    "## Feature Stores' Configuration"
   ]
  },
  {
   "cell_type": "markdown",
   "metadata": {
    "tags": []
   },
   "source": [
    "### Alice's Configuration"
   ]
  },
  {
   "cell_type": "code",
   "execution_count": null,
   "metadata": {
    "tags": [
     "block:load_data"
    ]
   },
   "outputs": [],
   "source": [
    "offline_store_config_alice = PostgreSQLOfflineStoreConfig(\n",
    "    host=\"postgresql-offline-store.default.svc.cluster.local\",\n",
    "    database=\"driver_data\",\n",
    "    db_schema=\"driver_data\",\n",
    "    user=\"bob\",\n",
    "    password=\"bob\"\n",
    ")"
   ]
  },
  {
   "cell_type": "code",
   "execution_count": null,
   "metadata": {
    "tags": []
   },
   "outputs": [],
   "source": [
    "online_store_config_alice = RedisOnlineStoreConfig(\n",
    "    connection_string=\"redis-online-store.default.svc.cluster.local:6379,username=bob,password=bob,db=0\"\n",
    ")"
   ]
  },
  {
   "cell_type": "code",
   "execution_count": null,
   "metadata": {
    "tags": []
   },
   "outputs": [],
   "source": [
    "registry_config_alice = RegistryConfig(\n",
    "    registry_store_type=\"KubeflowRegistryStore\",\n",
    "    path=\"\",\n",
    "    project=\"kubeflow-alice\",\n",
    "    readMode=True\n",
    ")"
   ]
  },
  {
   "cell_type": "code",
   "execution_count": null,
   "metadata": {
    "tags": []
   },
   "outputs": [],
   "source": [
    "repo_config_alice = RepoConfig(\n",
    "    project=\"kubeflow-alice\",\n",
    "    registry=registry_config_alice,\n",
    "    provider=\"local\",\n",
    "    offline_store=offline_store_config_alice,\n",
    "    online_store=online_store_config_alice\n",
    ")"
   ]
  },
  {
   "cell_type": "code",
   "execution_count": null,
   "metadata": {
    "tags": []
   },
   "outputs": [],
   "source": [
    "fs_alice = FeatureStore(config=repo_config_alice, repo_path=None)"
   ]
  },
  {
   "cell_type": "markdown",
   "metadata": {
    "tags": []
   },
   "source": [
    "### Charlie's Configuration"
   ]
  },
  {
   "cell_type": "code",
   "execution_count": null,
   "metadata": {
    "tags": [
     "block:load_data"
    ]
   },
   "outputs": [],
   "source": [
    "offline_store_config_charlie = PostgreSQLOfflineStoreConfig(\n",
    "    host=\"postgresql-offline-store.default.svc.cluster.local\",\n",
    "    database=\"driver_stream_data\",\n",
    "    db_schema=\"driver_stream_data\",\n",
    "    user=\"bob\",\n",
    "    password=\"bob\"\n",
    ")"
   ]
  },
  {
   "cell_type": "code",
   "execution_count": null,
   "metadata": {
    "tags": []
   },
   "outputs": [],
   "source": [
    "online_store_config_charlie = RedisOnlineStoreConfig(\n",
    "    connection_string=\"redis-online-store.default.svc.cluster.local:6379,username=bob,password=bob,db=0\"\n",
    ")"
   ]
  },
  {
   "cell_type": "code",
   "execution_count": null,
   "metadata": {
    "tags": []
   },
   "outputs": [],
   "source": [
    "registry_config_charlie = RegistryConfig(\n",
    "    registry_store_type=\"KubeflowRegistryStore\",\n",
    "    path=\"\",\n",
    "    project=\"kubeflow-charlie\",\n",
    "    readMode=True\n",
    ")"
   ]
  },
  {
   "cell_type": "code",
   "execution_count": null,
   "metadata": {
    "tags": []
   },
   "outputs": [],
   "source": [
    "repo_config_charlie = RepoConfig(\n",
    "    project=\"kubeflow-charlie\",\n",
    "    registry=registry_config_charlie,\n",
    "    provider=\"local\",\n",
    "    offline_store=offline_store_config_charlie,\n",
    "    online_store=online_store_config_charlie\n",
    ")"
   ]
  },
  {
   "cell_type": "code",
   "execution_count": null,
   "metadata": {
    "tags": []
   },
   "outputs": [],
   "source": [
    "fs_charlie = FeatureStore(config=repo_config_charlie, repo_path=None)"
   ]
  },
  {
   "cell_type": "markdown",
   "metadata": {
    "tags": []
   },
   "source": [
    "## Share Features"
   ]
  },
  {
   "cell_type": "markdown",
   "metadata": {
    "tags": []
   },
   "source": [
    "Bob already has a dataset that contains drivers' hourly scores for the last 5 days."
   ]
  },
  {
   "cell_type": "code",
   "execution_count": null,
   "metadata": {
    "tags": []
   },
   "outputs": [],
   "source": [
    "end_date = datetime.utcnow().replace(hour=0, minute=0, second=0, microsecond=0)\n",
    "start_date = end_date - timedelta(days=5)\n",
    "\n",
    "dates_df = pd.DataFrame(\n",
    "        {\n",
    "            \"event_timestamp\": [\n",
    "                pd.Timestamp(dt, unit=\"ms\", tz=\"UTC\").round(\"ms\")\n",
    "                for dt in pd.date_range(\n",
    "                    start=start_date, end=end_date, freq=\"60min\", inclusive=\"left\"\n",
    "                )\n",
    "            ]\n",
    "        }\n",
    "    )"
   ]
  },
  {
   "cell_type": "code",
   "execution_count": null,
   "metadata": {
    "tags": []
   },
   "outputs": [],
   "source": [
    "drivers = np.int_(list(range(1001, 1021)))\n",
    "\n",
    "drivers_df = pd.DataFrame(drivers, columns=[\"driver_id\"])"
   ]
  },
  {
   "cell_type": "code",
   "execution_count": null,
   "metadata": {
    "tags": []
   },
   "outputs": [],
   "source": [
    "drivers_df_full = drivers_df.join(dates_df, how='cross')\n",
    "\n",
    "rows = drivers_df_full[\"event_timestamp\"].count()\n",
    "drivers_df_full[\"score\"] = np.random.random(size=rows).astype(np.float32)"
   ]
  },
  {
   "cell_type": "code",
   "execution_count": null,
   "metadata": {
    "tags": []
   },
   "outputs": [],
   "source": [
    "drivers_df_full.head(5)"
   ]
  },
  {
   "cell_type": "markdown",
   "metadata": {
    "tags": []
   },
   "source": [
    "Bob enriches the existing dataset in a point-in-time correct way with drivers' daily stats that Alice has shared with him"
   ]
  },
  {
   "cell_type": "code",
   "execution_count": null,
   "metadata": {
    "tags": []
   },
   "outputs": [],
   "source": [
    "driver_daily_stats = fs_alice.get_historical_features(\n",
    "    entity_df=drivers_df_full,\n",
    "    features=[\n",
    "        \"driver_daily_stats_fv:profit\",\n",
    "        \"driver_daily_stats_fv:acc_rate\"\n",
    "    ]\n",
    ").to_df()"
   ]
  },
  {
   "cell_type": "code",
   "execution_count": null,
   "metadata": {
    "tags": []
   },
   "outputs": [],
   "source": [
    "driver_daily_stats.head(5)"
   ]
  },
  {
   "cell_type": "markdown",
   "metadata": {
    "tags": []
   },
   "source": [
    "Bob further enriches the dataset with the zone feature using the drivers' historical locations that Charlie has shared with him"
   ]
  },
  {
   "cell_type": "code",
   "execution_count": null,
   "metadata": {
    "tags": []
   },
   "outputs": [],
   "source": [
    "driver_full_stats = fs_charlie.get_historical_features(\n",
    "    entity_df=driver_daily_stats,\n",
    "    features=[\n",
    "        \"driver_locations_fv:lat\",\n",
    "        \"driver_locations_fv:lon\",\n",
    "        \"driver_zones_odfv:zone\"\n",
    "    ]\n",
    ").to_df() "
   ]
  },
  {
   "cell_type": "code",
   "execution_count": null,
   "metadata": {
    "tags": []
   },
   "outputs": [],
   "source": [
    "driver_full_stats.head(5)"
   ]
  },
  {
   "cell_type": "markdown",
   "metadata": {
    "tags": []
   },
   "source": [
    "## Train Model"
   ]
  },
  {
   "cell_type": "code",
   "execution_count": null,
   "metadata": {
    "tags": [
     "block:train_model",
     "prev:load_data"
    ]
   },
   "outputs": [],
   "source": [
    "train_X = driver_full_stats[[\n",
    "    \"zone\",\n",
    "    \"acc_rate\",\n",
    "    \"profit\"\n",
    "]]"
   ]
  },
  {
   "cell_type": "code",
   "execution_count": null,
   "metadata": {
    "tags": []
   },
   "outputs": [],
   "source": [
    "train_X.head(5)"
   ]
  },
  {
   "cell_type": "code",
   "execution_count": null,
   "metadata": {
    "tags": []
   },
   "outputs": [],
   "source": [
    "train_Y = driver_full_stats[[\"score\"]]"
   ]
  },
  {
   "cell_type": "code",
   "execution_count": null,
   "metadata": {
    "tags": []
   },
   "outputs": [],
   "source": [
    "train_Y.head(5)"
   ]
  },
  {
   "cell_type": "code",
   "execution_count": null,
   "metadata": {
    "tags": []
   },
   "outputs": [],
   "source": [
    "model = LinearRegression()\n",
    "model.fit(train_X, train_Y)"
   ]
  },
  {
   "cell_type": "markdown",
   "metadata": {
    "tags": []
   },
   "source": [
    "## Evaluate Model"
   ]
  },
  {
   "cell_type": "code",
   "execution_count": null,
   "metadata": {
    "tags": [
     "block:evaluate_model",
     "prev:train_model"
    ]
   },
   "outputs": [],
   "source": [
    "driver = [1001, 1002, 1003]\n",
    "zone = [1, 3, 2]\n",
    "acc_rate = [0.35, 0.61, 0.48]\n",
    "profit = [43.23, 24.5, 50.24]\n",
    "score = [1.19, 0.79, 1.27]\n",
    "\n",
    "test_X = pd.DataFrame(list(zip(acc_rate, profit, zone)),\n",
    "               columns =[\"acc_rate\", \"profit\", \"zone\"])\n",
    "\n",
    "test_Y = pd.DataFrame(score, columns =[\"score\"]) "
   ]
  },
  {
   "cell_type": "code",
   "execution_count": null,
   "metadata": {
    "tags": []
   },
   "outputs": [],
   "source": [
    "test_X"
   ]
  },
  {
   "cell_type": "code",
   "execution_count": null,
   "metadata": {
    "tags": []
   },
   "outputs": [],
   "source": [
    "test_Y"
   ]
  },
  {
   "cell_type": "code",
   "execution_count": null,
   "metadata": {
    "tags": []
   },
   "outputs": [],
   "source": [
    "performance = model.score(test_X, test_Y)\n",
    "print(\"Model performance:\", performance)"
   ]
  },
  {
   "cell_type": "markdown",
   "metadata": {
    "tags": []
   },
   "source": [
    "## Make Predictions"
   ]
  },
  {
   "cell_type": "markdown",
   "metadata": {},
   "source": [
    "In this section we will simulate a real-time prediction. Assume that a user requests a ride and drivers 1001 to 1005 are the closest ones. The goal is to find the most suitable for the ride. We send a request to the inference service with a list of ids."
   ]
  },
  {
   "cell_type": "code",
   "execution_count": null,
   "metadata": {},
   "outputs": [],
   "source": [
    "driver_ids = [1001, 1002, 1003, 1004, 1005]"
   ]
  },
  {
   "cell_type": "markdown",
   "metadata": {},
   "source": [
    "The inference service fetches the latest feature data for the given ids using the Online Store."
   ]
  },
  {
   "cell_type": "code",
   "execution_count": null,
   "metadata": {},
   "outputs": [],
   "source": [
    "driver_features = fs_alice.get_online_features(\n",
    "    entity_rows=[{\"driver_id\": driver_id} for driver_id in driver_ids],\n",
    "    features=[\n",
    "        \"driver_daily_stats_fv:profit\",\n",
    "        \"driver_daily_stats_fv:acc_rate\"\n",
    "    ],\n",
    ")"
   ]
  },
  {
   "cell_type": "code",
   "execution_count": null,
   "metadata": {},
   "outputs": [],
   "source": [
    "driver_features_df = driver_features.to_df()\n",
    "driver_features_df"
   ]
  },
  {
   "cell_type": "code",
   "execution_count": null,
   "metadata": {},
   "outputs": [],
   "source": [
    "driver_loactions = fs_charlie.get_online_features(\n",
    "    entity_rows=[{\"driver_id\": driver_id} for driver_id in driver_ids],\n",
    "    features=[\n",
    "        \"driver_locations_fv:lat\",\n",
    "        \"driver_locations_fv:lon\",\n",
    "        \"driver_zones_odfv:zone\"\n",
    "    ],\n",
    ")"
   ]
  },
  {
   "cell_type": "code",
   "execution_count": null,
   "metadata": {},
   "outputs": [],
   "source": [
    "driver_locations_df = driver_loactions.to_df()\n",
    "driver_locations_df"
   ]
  },
  {
   "cell_type": "code",
   "execution_count": null,
   "metadata": {},
   "outputs": [],
   "source": [
    "driver_features_df = driver_features_df.merge(driver_locations_df[[\"driver_id\", \"zone\"]], on=\"driver_id\")"
   ]
  },
  {
   "cell_type": "code",
   "execution_count": null,
   "metadata": {},
   "outputs": [],
   "source": [
    "driver_features_df"
   ]
  },
  {
   "cell_type": "markdown",
   "metadata": {},
   "source": [
    "The inference service uses the model to make a prediction for every driver"
   ]
  },
  {
   "cell_type": "code",
   "execution_count": null,
   "metadata": {},
   "outputs": [],
   "source": [
    "driver_features_df[\"score\"] = model.predict(driver_features_df[[\"zone\", \"acc_rate\", \"profit\"]])"
   ]
  },
  {
   "cell_type": "code",
   "execution_count": null,
   "metadata": {},
   "outputs": [],
   "source": [
    "driver_features_df[[\"driver_id\", \"score\"]]"
   ]
  },
  {
   "cell_type": "markdown",
   "metadata": {},
   "source": [
    "The inference service returns the best driver id"
   ]
  },
  {
   "cell_type": "code",
   "execution_count": null,
   "metadata": {},
   "outputs": [],
   "source": [
    "best_driver = driver_features_df[\"driver_id\"].iloc[driver_features_df[\"score\"].argmax()]\n",
    "print(f\"Prediction for best driver id: {best_driver}\")"
   ]
  }
 ],
 "metadata": {
  "kernelspec": {
   "display_name": "Python 3.8.10 ('env')",
   "language": "python",
   "name": "python3"
  },
  "kubeflow_notebook": {
   "autosnapshot": true,
   "deploy_config": {},
   "docker_image": "gcr.io/arrikto/jupyter-kale-py38@sha256:08ec067e1910993d1c4dc8fe100613ffd2e8f482698a1ebc0504cd07459686da",
   "experiment": {
    "id": "",
    "name": ""
   },
   "experiment_name": "",
   "katib_metadata": {
    "algorithm": {
     "algorithmName": "grid"
    },
    "maxFailedTrialCount": 3,
    "maxTrialCount": 12,
    "objective": {
     "objectiveMetricName": "",
     "type": "minimize"
    },
    "parallelTrialCount": 3,
    "parameters": []
   },
   "katib_run": false,
   "pipeline_description": "",
   "pipeline_name": "",
   "snapshot_volumes": true,
   "storage_class_name": "",
   "volume_access_mode": "rwm",
   "volumes": [
    {
     "annotations": [],
     "mount_point": "/home/jovyan",
     "name": "feast-dev-workspace-qg6hx",
     "size": 5,
     "size_type": "Gi",
     "snapshot": false,
     "type": "clone"
    }
   ]
  },
  "language_info": {
   "codemirror_mode": {
    "name": "ipython",
    "version": 3
   },
   "file_extension": ".py",
   "mimetype": "text/x-python",
   "name": "python",
   "nbconvert_exporter": "python",
   "pygments_lexer": "ipython3",
   "version": "3.8.10"
  },
  "vscode": {
   "interpreter": {
    "hash": "6eae61762843014baa3dac35aefd3cc07bf970b962c11c6cecd04b77dd2283a2"
   }
  }
 },
 "nbformat": 4,
 "nbformat_minor": 4
}
